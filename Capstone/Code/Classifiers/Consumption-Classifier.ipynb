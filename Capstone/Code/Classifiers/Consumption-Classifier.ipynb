{
 "cells": [
  {
   "cell_type": "code",
   "execution_count": 1,
   "metadata": {},
   "outputs": [
    {
     "name": "stderr",
     "output_type": "stream",
     "text": [
      "/Users/chi/anaconda/lib/python3.6/site-packages/sklearn/externals/joblib/__init__.py:15: DeprecationWarning: sklearn.externals.joblib is deprecated in 0.21 and will be removed in 0.23. Please import this functionality directly from joblib, which can be installed with: pip install joblib. If this warning is raised when loading pickled models, you may need to re-serialize those models with scikit-learn 0.21+.\n",
      "  warnings.warn(msg, category=DeprecationWarning)\n"
     ]
    }
   ],
   "source": [
    "# import all needed model and functions \n",
    "from ThematicTextClassify.TextClassifier import *\n",
    "from ThematicTextClassify.Preprocessing import *"
   ]
  },
  {
   "cell_type": "code",
   "execution_count": 2,
   "metadata": {},
   "outputs": [],
   "source": [
    "df =pd.read_csv('Categorized_Links.csv')"
   ]
  },
  {
   "cell_type": "code",
   "execution_count": 3,
   "metadata": {},
   "outputs": [
    {
     "data": {
      "text/html": [
       "<div>\n",
       "<style scoped>\n",
       "    .dataframe tbody tr th:only-of-type {\n",
       "        vertical-align: middle;\n",
       "    }\n",
       "\n",
       "    .dataframe tbody tr th {\n",
       "        vertical-align: top;\n",
       "    }\n",
       "\n",
       "    .dataframe thead th {\n",
       "        text-align: right;\n",
       "    }\n",
       "</style>\n",
       "<table border=\"1\" class=\"dataframe\">\n",
       "  <thead>\n",
       "    <tr style=\"text-align: right;\">\n",
       "      <th></th>\n",
       "      <th></th>\n",
       "      <th>Title</th>\n",
       "      <th>Description</th>\n",
       "      <th>Link</th>\n",
       "      <th>Source</th>\n",
       "    </tr>\n",
       "    <tr>\n",
       "      <th>Category</th>\n",
       "      <th>Subcategory</th>\n",
       "      <th></th>\n",
       "      <th></th>\n",
       "      <th></th>\n",
       "      <th></th>\n",
       "    </tr>\n",
       "  </thead>\n",
       "  <tbody>\n",
       "    <tr>\n",
       "      <th rowspan=\"3\" valign=\"top\">Consumption</th>\n",
       "      <th>Food Consumed</th>\n",
       "      <td>74</td>\n",
       "      <td>74</td>\n",
       "      <td>74</td>\n",
       "      <td>74</td>\n",
       "    </tr>\n",
       "    <tr>\n",
       "      <th>Food Spending</th>\n",
       "      <td>17</td>\n",
       "      <td>17</td>\n",
       "      <td>17</td>\n",
       "      <td>17</td>\n",
       "    </tr>\n",
       "    <tr>\n",
       "      <th>Nutrient &amp; non nutrient intakes</th>\n",
       "      <td>34</td>\n",
       "      <td>34</td>\n",
       "      <td>34</td>\n",
       "      <td>34</td>\n",
       "    </tr>\n",
       "    <tr>\n",
       "      <th rowspan=\"5\" valign=\"top\">Distribution</th>\n",
       "      <th>Access and Equity Issues, Education Information Advertising</th>\n",
       "      <td>9</td>\n",
       "      <td>9</td>\n",
       "      <td>9</td>\n",
       "      <td>9</td>\n",
       "    </tr>\n",
       "    <tr>\n",
       "      <th>Food Acquired</th>\n",
       "      <td>4</td>\n",
       "      <td>4</td>\n",
       "      <td>4</td>\n",
       "      <td>4</td>\n",
       "    </tr>\n",
       "    <tr>\n",
       "      <th>Food Disposition</th>\n",
       "      <td>23</td>\n",
       "      <td>23</td>\n",
       "      <td>23</td>\n",
       "      <td>23</td>\n",
       "    </tr>\n",
       "    <tr>\n",
       "      <th>Food Price</th>\n",
       "      <td>7</td>\n",
       "      <td>7</td>\n",
       "      <td>7</td>\n",
       "      <td>7</td>\n",
       "    </tr>\n",
       "    <tr>\n",
       "      <th>Other</th>\n",
       "      <td>7</td>\n",
       "      <td>7</td>\n",
       "      <td>7</td>\n",
       "      <td>7</td>\n",
       "    </tr>\n",
       "    <tr>\n",
       "      <th rowspan=\"2\" valign=\"top\">Health Outcome</th>\n",
       "      <th>Food Insecurity</th>\n",
       "      <td>15</td>\n",
       "      <td>15</td>\n",
       "      <td>15</td>\n",
       "      <td>15</td>\n",
       "    </tr>\n",
       "    <tr>\n",
       "      <th>Health Status, outcomes, morbidity, mortality</th>\n",
       "      <td>41</td>\n",
       "      <td>41</td>\n",
       "      <td>41</td>\n",
       "      <td>41</td>\n",
       "    </tr>\n",
       "    <tr>\n",
       "      <th rowspan=\"5\" valign=\"top\">Supply</th>\n",
       "      <th>Consumer Demand</th>\n",
       "      <td>11</td>\n",
       "      <td>11</td>\n",
       "      <td>11</td>\n",
       "      <td>11</td>\n",
       "    </tr>\n",
       "    <tr>\n",
       "      <th>Food Availability &amp; Storage</th>\n",
       "      <td>20</td>\n",
       "      <td>20</td>\n",
       "      <td>20</td>\n",
       "      <td>20</td>\n",
       "    </tr>\n",
       "    <tr>\n",
       "      <th>Food Production/Hunting/Harvesting</th>\n",
       "      <td>80</td>\n",
       "      <td>80</td>\n",
       "      <td>80</td>\n",
       "      <td>80</td>\n",
       "    </tr>\n",
       "    <tr>\n",
       "      <th>Food for Sale / Intended for Consumption</th>\n",
       "      <td>8</td>\n",
       "      <td>8</td>\n",
       "      <td>8</td>\n",
       "      <td>8</td>\n",
       "    </tr>\n",
       "    <tr>\n",
       "      <th>Imports and Exports</th>\n",
       "      <td>21</td>\n",
       "      <td>21</td>\n",
       "      <td>21</td>\n",
       "      <td>21</td>\n",
       "    </tr>\n",
       "    <tr>\n",
       "      <th rowspan=\"2\" valign=\"top\">Utilization</th>\n",
       "      <th>Nutrient &amp; non-nutrient metabolic utilization</th>\n",
       "      <td>38</td>\n",
       "      <td>38</td>\n",
       "      <td>38</td>\n",
       "      <td>34</td>\n",
       "    </tr>\n",
       "    <tr>\n",
       "      <th>Supplements and Natural Health Products</th>\n",
       "      <td>8</td>\n",
       "      <td>8</td>\n",
       "      <td>8</td>\n",
       "      <td>8</td>\n",
       "    </tr>\n",
       "  </tbody>\n",
       "</table>\n",
       "</div>"
      ],
      "text/plain": [
       "                                                                   Title  \\\n",
       "Category       Subcategory                                                 \n",
       "Consumption    Food Consumed                                          74   \n",
       "               Food Spending                                          17   \n",
       "               Nutrient & non nutrient intakes                        34   \n",
       "Distribution   Access and Equity Issues, Education Information...      9   \n",
       "               Food Acquired                                           4   \n",
       "               Food Disposition                                       23   \n",
       "               Food Price                                              7   \n",
       "               Other                                                   7   \n",
       "Health Outcome Food Insecurity                                        15   \n",
       "               Health Status, outcomes, morbidity, mortality          41   \n",
       "Supply         Consumer Demand                                        11   \n",
       "               Food Availability & Storage                            20   \n",
       "               Food Production/Hunting/Harvesting                     80   \n",
       "               Food for Sale / Intended for Consumption                8   \n",
       "               Imports and Exports                                    21   \n",
       "Utilization    Nutrient & non-nutrient metabolic utilization          38   \n",
       "               Supplements and Natural Health Products                 8   \n",
       "\n",
       "                                                                   Description  \\\n",
       "Category       Subcategory                                                       \n",
       "Consumption    Food Consumed                                                74   \n",
       "               Food Spending                                                17   \n",
       "               Nutrient & non nutrient intakes                              34   \n",
       "Distribution   Access and Equity Issues, Education Information...            9   \n",
       "               Food Acquired                                                 4   \n",
       "               Food Disposition                                             23   \n",
       "               Food Price                                                    7   \n",
       "               Other                                                         7   \n",
       "Health Outcome Food Insecurity                                              15   \n",
       "               Health Status, outcomes, morbidity, mortality                41   \n",
       "Supply         Consumer Demand                                              11   \n",
       "               Food Availability & Storage                                  20   \n",
       "               Food Production/Hunting/Harvesting                           80   \n",
       "               Food for Sale / Intended for Consumption                      8   \n",
       "               Imports and Exports                                          21   \n",
       "Utilization    Nutrient & non-nutrient metabolic utilization                38   \n",
       "               Supplements and Natural Health Products                       8   \n",
       "\n",
       "                                                                   Link  \\\n",
       "Category       Subcategory                                                \n",
       "Consumption    Food Consumed                                         74   \n",
       "               Food Spending                                         17   \n",
       "               Nutrient & non nutrient intakes                       34   \n",
       "Distribution   Access and Equity Issues, Education Information...     9   \n",
       "               Food Acquired                                          4   \n",
       "               Food Disposition                                      23   \n",
       "               Food Price                                             7   \n",
       "               Other                                                  7   \n",
       "Health Outcome Food Insecurity                                       15   \n",
       "               Health Status, outcomes, morbidity, mortality         41   \n",
       "Supply         Consumer Demand                                       11   \n",
       "               Food Availability & Storage                           20   \n",
       "               Food Production/Hunting/Harvesting                    80   \n",
       "               Food for Sale / Intended for Consumption               8   \n",
       "               Imports and Exports                                   21   \n",
       "Utilization    Nutrient & non-nutrient metabolic utilization         38   \n",
       "               Supplements and Natural Health Products                8   \n",
       "\n",
       "                                                                   Source  \n",
       "Category       Subcategory                                                 \n",
       "Consumption    Food Consumed                                           74  \n",
       "               Food Spending                                           17  \n",
       "               Nutrient & non nutrient intakes                         34  \n",
       "Distribution   Access and Equity Issues, Education Information...       9  \n",
       "               Food Acquired                                            4  \n",
       "               Food Disposition                                        23  \n",
       "               Food Price                                               7  \n",
       "               Other                                                    7  \n",
       "Health Outcome Food Insecurity                                         15  \n",
       "               Health Status, outcomes, morbidity, mortality           41  \n",
       "Supply         Consumer Demand                                         11  \n",
       "               Food Availability & Storage                             20  \n",
       "               Food Production/Hunting/Harvesting                      80  \n",
       "               Food for Sale / Intended for Consumption                 8  \n",
       "               Imports and Exports                                     21  \n",
       "Utilization    Nutrient & non-nutrient metabolic utilization           34  \n",
       "               Supplements and Natural Health Products                  8  "
      ]
     },
     "execution_count": 3,
     "metadata": {},
     "output_type": "execute_result"
    }
   ],
   "source": [
    "df.groupby(['Category', 'Subcategory']).count()"
   ]
  },
  {
   "cell_type": "markdown",
   "metadata": {},
   "source": [
    "# Sources used \n",
    "* \n",
    "https://github.com/bertcarremans/TwitterUSAirlineSentiment/blob/master/source/Predicting%20sentiment%20with%20text%20features.ipynb\n",
    "* https://github.com/chiwang0503/App-Review-Analysis/blob/master/Topic_Modelling_by_year.ipynb\n",
    "\n",
    "* https://stackoverflow.com/questions/15586721/wordnet-lemmatization-and-pos-tagging-in-python \n",
    "\n",
    "## Source to consider for lemmatizing pos tagging \n"
   ]
  },
  {
   "cell_type": "markdown",
   "metadata": {},
   "source": [
    "# Preprocessing Text Function"
   ]
  },
  {
   "cell_type": "code",
   "execution_count": 4,
   "metadata": {},
   "outputs": [
    {
     "name": "stdout",
     "output_type": "stream",
     "text": [
      "Another => Another\n",
      "way => way\n",
      "of => of\n",
      "achieving => achieve\n",
      "this => this\n",
      "task => task\n"
     ]
    }
   ],
   "source": [
    "from nltk.corpus import wordnet as wn\n",
    "from nltk.stem.wordnet import WordNetLemmatizer\n",
    "from nltk import word_tokenize, pos_tag\n",
    "from collections import defaultdict\n",
    "\n",
    "tag_map = defaultdict(lambda : wn.NOUN)\n",
    "tag_map['J'] = wn.ADJ\n",
    "tag_map['V'] = wn.VERB\n",
    "tag_map['R'] = wn.ADV\n",
    "\n",
    "text = \"Another way of achieving this task\"\n",
    "tokens = word_tokenize(text)\n",
    "lmtzr = WordNetLemmatizer()\n",
    "\n",
    "for token, tag in pos_tag(tokens):\n",
    "    lemma = lmtzr.lemmatize(token, tag_map[tag[0]])\n",
    "    print(token, \"=>\", lemma)"
   ]
  },
  {
   "cell_type": "markdown",
   "metadata": {},
   "source": [
    "# Why we Lemmatize and not Stem"
   ]
  },
  {
   "cell_type": "code",
   "execution_count": 5,
   "metadata": {},
   "outputs": [
    {
     "data": {
      "text/plain": [
       "'computation'"
      ]
     },
     "execution_count": 5,
     "metadata": {},
     "output_type": "execute_result"
    }
   ],
   "source": [
    "WordNetLemmatizer().lemmatize(\"computation\", pos='v')"
   ]
  },
  {
   "cell_type": "code",
   "execution_count": 6,
   "metadata": {},
   "outputs": [
    {
     "data": {
      "text/plain": [
       "'computer'"
      ]
     },
     "execution_count": 6,
     "metadata": {},
     "output_type": "execute_result"
    }
   ],
   "source": [
    "WordNetLemmatizer().lemmatize(\"computer\", pos='v')"
   ]
  },
  {
   "cell_type": "code",
   "execution_count": 7,
   "metadata": {},
   "outputs": [
    {
     "data": {
      "text/plain": [
       "'comput'"
      ]
     },
     "execution_count": 7,
     "metadata": {},
     "output_type": "execute_result"
    }
   ],
   "source": [
    "stemmer.stem(\"computation\")"
   ]
  },
  {
   "cell_type": "code",
   "execution_count": 8,
   "metadata": {},
   "outputs": [
    {
     "data": {
      "text/plain": [
       "'comput'"
      ]
     },
     "execution_count": 8,
     "metadata": {},
     "output_type": "execute_result"
    }
   ],
   "source": [
    "stemmer.stem(\"computer\")"
   ]
  },
  {
   "cell_type": "code",
   "execution_count": 9,
   "metadata": {},
   "outputs": [
    {
     "data": {
      "text/plain": [
       "'comput'"
      ]
     },
     "execution_count": 9,
     "metadata": {},
     "output_type": "execute_result"
    }
   ],
   "source": [
    "stemmer.stem(WordNetLemmatizer().lemmatize(\"computation\", pos='v'))"
   ]
  },
  {
   "cell_type": "code",
   "execution_count": 10,
   "metadata": {},
   "outputs": [
    {
     "data": {
      "text/plain": [
       "'comput'"
      ]
     },
     "execution_count": 10,
     "metadata": {},
     "output_type": "execute_result"
    }
   ],
   "source": [
    "stemmer.stem(WordNetLemmatizer().lemmatize(\"computer\", pos='v'))"
   ]
  },
  {
   "cell_type": "markdown",
   "metadata": {},
   "source": [
    "# Preprocessing"
   ]
  },
  {
   "cell_type": "code",
   "execution_count": 11,
   "metadata": {},
   "outputs": [
    {
     "name": "stdout",
     "output_type": "stream",
     "text": [
      "0\n",
      "417\n"
     ]
    }
   ],
   "source": [
    "# add the title and description column together to form a text document\n",
    "df['Text'] = df['Title']+ df['Description']\n",
    "df = df.dropna(subset= ['Text'], axis = 0)\n",
    "\n",
    "# preprocess the newly defined Text column\n",
    "df['Processed Text'] = df['Text'].map(preprocess_text)\n",
    "\n",
    "# If after preprocessing there are empty lists we drop \n",
    "# we check for len of list > 0 \n",
    "print(len(df[df['Processed Text'].map(lambda d: len(d)) == 0]))\n",
    "\n",
    "# We've checked that there are no empty lists\n",
    "print(len(df))\n",
    "\n",
    "df['processed_string'] =  [' '.join(text) for text in df['Processed Text']]"
   ]
  },
  {
   "cell_type": "markdown",
   "metadata": {},
   "source": [
    "# Before dropping duplicates our distribution of documents by category"
   ]
  },
  {
   "cell_type": "code",
   "execution_count": 12,
   "metadata": {
    "scrolled": false
   },
   "outputs": [
    {
     "data": {
      "image/png": "[encoded data removed]",
      "text/plain": [
       "<Figure size 432x288 with 1 Axes>"
      ]
     },
     "metadata": {
      "needs_background": "light"
     },
     "output_type": "display_data"
    },
    {
     "data": {
      "text/plain": [
       "Category\n",
       "Consumption       125\n",
       "Distribution       50\n",
       "Health Outcome     56\n",
       "Supply            140\n",
       "Utilization        46\n",
       "Name: Text, dtype: int64"
      ]
     },
     "execution_count": 12,
     "metadata": {},
     "output_type": "execute_result"
    }
   ],
   "source": [
    "df.groupby('Category').count()['Text'].plot.bar()\n",
    "plt.rcParams[\"figure.figsize\"] = (9,6)\n",
    "plt.title(\"Number of Records by Category\")\n",
    "plt.show()\n",
    "df.groupby('Category').count()['Text']"
   ]
  },
  {
   "cell_type": "markdown",
   "metadata": {},
   "source": [
    "# 5-fold CV\n",
    "# Accuracy = $\\frac{TP + TN}{Total}$\n",
    "# Precision = $\\frac{TP}{TP+FP} = \\frac{TP}{Actual \\  Results}$  \n",
    "# Recall = $\\frac{TP}{TP+FN} = \\frac{TP}{Predicted \\ Results}$\n",
    "# f1-score =$ \\frac{2*(Recall * Precision)}{ (Recall + Precision)}$"
   ]
  },
  {
   "cell_type": "markdown",
   "metadata": {},
   "source": [
    "# Notes aside before for evaluating performance indices\n",
    "* Precision = $\\frac{TP}{TP+FP}$  \n",
    "    * Precision is the ratio of correctly predicted positive observations to the total predicted positive observations\n",
    "* Recall (Sensitivity) = $\\frac{TP}{TP+FN}$ \n",
    "    *  Recall is the ratio of correctly predicted positive observations to the all observations in actual class \n",
    "* F1 Score = $\\frac{2*(Recall * Precision)}{ (Recall + Precision)}$ (Weighted average of Precision and Recall)\n",
    "* Accuracy = $\\frac{TP+TN}{TP+FP+FN+TN}$\n",
    "\n",
    "## What matters to us more is if the model is predicting the true positives correctly, which is predicting `Consumption` correctly. We can pay less attention to the results of `other` performance indices.\n",
    "\n",
    "## Model - Selection will be based on mostly the precision, recall and f1 score of specific class we are working with and not on the performance indices of the `other` class. \n",
    "\n",
    "* Note:  The term Multinomial Naive Bayes simply lets us know that each 𝑝(𝑓𝑖|𝑐) is a multinomial distribution, rather than some other distribution.\n",
    "* Multinomial Naive Bayes works well for text data, which can easily be turned into word counts"
   ]
  },
  {
   "cell_type": "markdown",
   "metadata": {},
   "source": [
    "# We will label the class as Consumption or other on the entire data set based on the already labeled Category column"
   ]
  },
  {
   "cell_type": "code",
   "execution_count": 13,
   "metadata": {},
   "outputs": [],
   "source": [
    "df['Class'] = \"\"\n",
    "df['Class'] = df.apply(lambda df: 'Consumption' if (df['Category'] == 'Consumption') else df['Class'], axis =1)\n",
    "df['Class'] = df.apply(lambda df: 'Other' if (df['Category'] != 'Consumption') else df['Class'], axis =1)\n",
    "df = df.reset_index(drop=True)\n"
   ]
  },
  {
   "cell_type": "code",
   "execution_count": 14,
   "metadata": {},
   "outputs": [
    {
     "data": {
      "text/html": [
       "<div>\n",
       "<style scoped>\n",
       "    .dataframe tbody tr th:only-of-type {\n",
       "        vertical-align: middle;\n",
       "    }\n",
       "\n",
       "    .dataframe tbody tr th {\n",
       "        vertical-align: top;\n",
       "    }\n",
       "\n",
       "    .dataframe thead tr th {\n",
       "        text-align: left;\n",
       "    }\n",
       "\n",
       "    .dataframe thead tr:last-of-type th {\n",
       "        text-align: right;\n",
       "    }\n",
       "</style>\n",
       "<table border=\"1\" class=\"dataframe\">\n",
       "  <thead>\n",
       "    <tr>\n",
       "      <th></th>\n",
       "      <th colspan=\"8\" halign=\"left\">length_of_text</th>\n",
       "    </tr>\n",
       "    <tr>\n",
       "      <th></th>\n",
       "      <th>count</th>\n",
       "      <th>mean</th>\n",
       "      <th>std</th>\n",
       "      <th>min</th>\n",
       "      <th>25%</th>\n",
       "      <th>50%</th>\n",
       "      <th>75%</th>\n",
       "      <th>max</th>\n",
       "    </tr>\n",
       "    <tr>\n",
       "      <th>Category</th>\n",
       "      <th></th>\n",
       "      <th></th>\n",
       "      <th></th>\n",
       "      <th></th>\n",
       "      <th></th>\n",
       "      <th></th>\n",
       "      <th></th>\n",
       "      <th></th>\n",
       "    </tr>\n",
       "  </thead>\n",
       "  <tbody>\n",
       "    <tr>\n",
       "      <th>Consumption</th>\n",
       "      <td>125.0</td>\n",
       "      <td>81.504000</td>\n",
       "      <td>64.190822</td>\n",
       "      <td>9.0</td>\n",
       "      <td>28.00</td>\n",
       "      <td>66.0</td>\n",
       "      <td>118.00</td>\n",
       "      <td>338.0</td>\n",
       "    </tr>\n",
       "    <tr>\n",
       "      <th>Distribution</th>\n",
       "      <td>50.0</td>\n",
       "      <td>40.840000</td>\n",
       "      <td>26.287547</td>\n",
       "      <td>9.0</td>\n",
       "      <td>18.00</td>\n",
       "      <td>36.5</td>\n",
       "      <td>62.75</td>\n",
       "      <td>121.0</td>\n",
       "    </tr>\n",
       "    <tr>\n",
       "      <th>Health Outcome</th>\n",
       "      <td>56.0</td>\n",
       "      <td>83.000000</td>\n",
       "      <td>70.352101</td>\n",
       "      <td>10.0</td>\n",
       "      <td>30.75</td>\n",
       "      <td>64.5</td>\n",
       "      <td>112.00</td>\n",
       "      <td>338.0</td>\n",
       "    </tr>\n",
       "    <tr>\n",
       "      <th>Supply</th>\n",
       "      <td>140.0</td>\n",
       "      <td>44.292857</td>\n",
       "      <td>32.409586</td>\n",
       "      <td>8.0</td>\n",
       "      <td>17.75</td>\n",
       "      <td>42.0</td>\n",
       "      <td>61.00</td>\n",
       "      <td>224.0</td>\n",
       "    </tr>\n",
       "    <tr>\n",
       "      <th>Utilization</th>\n",
       "      <td>46.0</td>\n",
       "      <td>97.913043</td>\n",
       "      <td>75.703758</td>\n",
       "      <td>11.0</td>\n",
       "      <td>32.25</td>\n",
       "      <td>86.0</td>\n",
       "      <td>130.00</td>\n",
       "      <td>338.0</td>\n",
       "    </tr>\n",
       "  </tbody>\n",
       "</table>\n",
       "</div>"
      ],
      "text/plain": [
       "               length_of_text                                           \\\n",
       "                        count       mean        std   min    25%   50%   \n",
       "Category                                                                 \n",
       "Consumption             125.0  81.504000  64.190822   9.0  28.00  66.0   \n",
       "Distribution             50.0  40.840000  26.287547   9.0  18.00  36.5   \n",
       "Health Outcome           56.0  83.000000  70.352101  10.0  30.75  64.5   \n",
       "Supply                  140.0  44.292857  32.409586   8.0  17.75  42.0   \n",
       "Utilization              46.0  97.913043  75.703758  11.0  32.25  86.0   \n",
       "\n",
       "                               \n",
       "                   75%    max  \n",
       "Category                       \n",
       "Consumption     118.00  338.0  \n",
       "Distribution     62.75  121.0  \n",
       "Health Outcome  112.00  338.0  \n",
       "Supply           61.00  224.0  \n",
       "Utilization     130.00  338.0  "
      ]
     },
     "execution_count": 14,
     "metadata": {},
     "output_type": "execute_result"
    }
   ],
   "source": [
    "length_of_text = []\n",
    "for i in df['Processed Text']:\n",
    "    length_of_text.append(len(i))\n",
    "df['length_of_text'] = length_of_text \n",
    "df.groupby('Category').describe()"
   ]
  },
  {
   "cell_type": "code",
   "execution_count": 15,
   "metadata": {},
   "outputs": [
    {
     "data": {
      "text/plain": [
       "301"
      ]
     },
     "execution_count": 15,
     "metadata": {},
     "output_type": "execute_result"
    }
   ],
   "source": [
    "df = df.sort_values('Class')\n",
    "df = df.reset_index(drop=True)\n",
    "df = df.drop_duplicates(['Link'],keep= 'first')\n",
    "df = df.reset_index(drop=True)\n",
    "len(df)"
   ]
  },
  {
   "cell_type": "code",
   "execution_count": 16,
   "metadata": {},
   "outputs": [
    {
     "data": {
      "text/plain": [
       "Other          188\n",
       "Consumption    113\n",
       "Name: Class, dtype: int64"
      ]
     },
     "execution_count": 16,
     "metadata": {},
     "output_type": "execute_result"
    }
   ],
   "source": [
    "df['Class'].value_counts()"
   ]
  },
  {
   "cell_type": "code",
   "execution_count": 17,
   "metadata": {},
   "outputs": [],
   "source": [
    "length_of_text = []\n",
    "for i in df['Processed Text']:\n",
    "    length_of_text.append(len(i))\n",
    "df['length_of_text'] = length_of_text "
   ]
  },
  {
   "cell_type": "code",
   "execution_count": 18,
   "metadata": {},
   "outputs": [
    {
     "data": {
      "text/html": [
       "<div>\n",
       "<style scoped>\n",
       "    .dataframe tbody tr th:only-of-type {\n",
       "        vertical-align: middle;\n",
       "    }\n",
       "\n",
       "    .dataframe tbody tr th {\n",
       "        vertical-align: top;\n",
       "    }\n",
       "\n",
       "    .dataframe thead tr th {\n",
       "        text-align: left;\n",
       "    }\n",
       "\n",
       "    .dataframe thead tr:last-of-type th {\n",
       "        text-align: right;\n",
       "    }\n",
       "</style>\n",
       "<table border=\"1\" class=\"dataframe\">\n",
       "  <thead>\n",
       "    <tr>\n",
       "      <th></th>\n",
       "      <th colspan=\"8\" halign=\"left\">length_of_text</th>\n",
       "    </tr>\n",
       "    <tr>\n",
       "      <th></th>\n",
       "      <th>count</th>\n",
       "      <th>mean</th>\n",
       "      <th>std</th>\n",
       "      <th>min</th>\n",
       "      <th>25%</th>\n",
       "      <th>50%</th>\n",
       "      <th>75%</th>\n",
       "      <th>max</th>\n",
       "    </tr>\n",
       "    <tr>\n",
       "      <th>Category</th>\n",
       "      <th></th>\n",
       "      <th></th>\n",
       "      <th></th>\n",
       "      <th></th>\n",
       "      <th></th>\n",
       "      <th></th>\n",
       "      <th></th>\n",
       "      <th></th>\n",
       "    </tr>\n",
       "  </thead>\n",
       "  <tbody>\n",
       "    <tr>\n",
       "      <th>Consumption</th>\n",
       "      <td>113.0</td>\n",
       "      <td>85.017699</td>\n",
       "      <td>65.781834</td>\n",
       "      <td>9.0</td>\n",
       "      <td>29.00</td>\n",
       "      <td>72.0</td>\n",
       "      <td>134.00</td>\n",
       "      <td>338.0</td>\n",
       "    </tr>\n",
       "    <tr>\n",
       "      <th>Distribution</th>\n",
       "      <td>27.0</td>\n",
       "      <td>43.555556</td>\n",
       "      <td>25.198189</td>\n",
       "      <td>13.0</td>\n",
       "      <td>20.00</td>\n",
       "      <td>39.0</td>\n",
       "      <td>66.50</td>\n",
       "      <td>98.0</td>\n",
       "    </tr>\n",
       "    <tr>\n",
       "      <th>Health Outcome</th>\n",
       "      <td>42.0</td>\n",
       "      <td>69.785714</td>\n",
       "      <td>58.432590</td>\n",
       "      <td>10.0</td>\n",
       "      <td>23.50</td>\n",
       "      <td>54.5</td>\n",
       "      <td>82.50</td>\n",
       "      <td>276.0</td>\n",
       "    </tr>\n",
       "    <tr>\n",
       "      <th>Supply</th>\n",
       "      <td>110.0</td>\n",
       "      <td>45.981818</td>\n",
       "      <td>33.870499</td>\n",
       "      <td>8.0</td>\n",
       "      <td>18.25</td>\n",
       "      <td>44.0</td>\n",
       "      <td>61.75</td>\n",
       "      <td>224.0</td>\n",
       "    </tr>\n",
       "    <tr>\n",
       "      <th>Utilization</th>\n",
       "      <td>9.0</td>\n",
       "      <td>105.888889</td>\n",
       "      <td>37.866359</td>\n",
       "      <td>58.0</td>\n",
       "      <td>85.00</td>\n",
       "      <td>109.0</td>\n",
       "      <td>113.00</td>\n",
       "      <td>183.0</td>\n",
       "    </tr>\n",
       "  </tbody>\n",
       "</table>\n",
       "</div>"
      ],
      "text/plain": [
       "               length_of_text                                             \\\n",
       "                        count        mean        std   min    25%    50%   \n",
       "Category                                                                   \n",
       "Consumption             113.0   85.017699  65.781834   9.0  29.00   72.0   \n",
       "Distribution             27.0   43.555556  25.198189  13.0  20.00   39.0   \n",
       "Health Outcome           42.0   69.785714  58.432590  10.0  23.50   54.5   \n",
       "Supply                  110.0   45.981818  33.870499   8.0  18.25   44.0   \n",
       "Utilization               9.0  105.888889  37.866359  58.0  85.00  109.0   \n",
       "\n",
       "                               \n",
       "                   75%    max  \n",
       "Category                       \n",
       "Consumption     134.00  338.0  \n",
       "Distribution     66.50   98.0  \n",
       "Health Outcome   82.50  276.0  \n",
       "Supply           61.75  224.0  \n",
       "Utilization     113.00  183.0  "
      ]
     },
     "execution_count": 18,
     "metadata": {},
     "output_type": "execute_result"
    }
   ],
   "source": [
    "df.groupby('Category').describe()"
   ]
  },
  {
   "cell_type": "code",
   "execution_count": 19,
   "metadata": {},
   "outputs": [
    {
     "data": {
      "text/plain": [
       "count    301.000000\n",
       "mean      65.531561\n",
       "std       54.499937\n",
       "min        8.000000\n",
       "25%       22.000000\n",
       "50%       53.000000\n",
       "75%       87.000000\n",
       "max      338.000000\n",
       "Name: length_of_text, dtype: float64"
      ]
     },
     "execution_count": 19,
     "metadata": {},
     "output_type": "execute_result"
    }
   ],
   "source": [
    "df['length_of_text'].describe()"
   ]
  },
  {
   "cell_type": "markdown",
   "metadata": {},
   "source": [
    "# To make sure there is enough records in the test data set we find the optimal seed\n",
    "\n",
    "`for i in range(0,40000): \n",
    "    try: \n",
    "        text_train, text_test, class_train, class_test = train_test_split(df,df['Class'], test_size=0.15, random_state=i)\n",
    "        if class_test.value_counts()[1]  >= 11:\n",
    "            print(i,\"this is it look here\")\n",
    "        else:\n",
    "            print(None,i)\n",
    "    except: \n",
    "        pass`"
   ]
  },
  {
   "cell_type": "markdown",
   "metadata": {},
   "source": [
    "## Create Training and Test data "
   ]
  },
  {
   "cell_type": "code",
   "execution_count": 20,
   "metadata": {},
   "outputs": [],
   "source": [
    "text_train, text_test, class_train, class_test = train_test_split(df,\n",
    "                                                    df['Class'],\n",
    "                                                    test_size=0.20, \n",
    "                                                    random_state=509)"
   ]
  },
  {
   "cell_type": "code",
   "execution_count": 21,
   "metadata": {},
   "outputs": [
    {
     "data": {
      "text/plain": [
       "Other          149\n",
       "Consumption     91\n",
       "Name: Class, dtype: int64"
      ]
     },
     "execution_count": 21,
     "metadata": {},
     "output_type": "execute_result"
    }
   ],
   "source": [
    "class_train.value_counts()"
   ]
  },
  {
   "cell_type": "code",
   "execution_count": 22,
   "metadata": {},
   "outputs": [
    {
     "data": {
      "text/plain": [
       "Other          39\n",
       "Consumption    22\n",
       "Name: Class, dtype: int64"
      ]
     },
     "execution_count": 22,
     "metadata": {},
     "output_type": "execute_result"
    }
   ],
   "source": [
    "class_test.value_counts()"
   ]
  },
  {
   "cell_type": "markdown",
   "metadata": {},
   "source": [
    "# The average document length"
   ]
  },
  {
   "cell_type": "code",
   "execution_count": 23,
   "metadata": {},
   "outputs": [
    {
     "name": "stdout",
     "output_type": "stream",
     "text": [
      "65.53156146179403\n"
     ]
    }
   ],
   "source": [
    "count = 0\n",
    "for i in df['Processed Text']:\n",
    "    count += len(i)\n",
    "print(count/len(df))"
   ]
  },
  {
   "cell_type": "markdown",
   "metadata": {},
   "source": [
    "# Most Frequent words for Consumption\n",
    "* Maybe useful when searching for documents"
   ]
  },
  {
   "cell_type": "code",
   "execution_count": 24,
   "metadata": {},
   "outputs": [
    {
     "data": {
      "image/png": "[encoded data removed]",
      "text/plain": [
       "<Figure size 720x432 with 1 Axes>"
      ]
     },
     "metadata": {
      "needs_background": "light"
     },
     "output_type": "display_data"
    }
   ],
   "source": [
    "cv = CountVectorizer()\n",
    "consumption = df[df['Class'] == 'Consumption']['processed_string']\n",
    "bow_consumption = cv.fit_transform(consumption)\n",
    "freq_consumption = dict(zip(cv.get_feature_names(), np.asarray(bow_consumption.sum(axis=0)).ravel()))\n",
    "count_consumption = pd.DataFrame(collections.Counter(freq_consumption).most_common(10), columns = ['Word', 'Frequency'])\n",
    "fig, ax = plt.subplots(figsize=(10, 6))\n",
    "colour = sns.cubehelix_palette(8, start=2, rot=0, dark=0, light=.95, reverse=True)\n",
    "g = sns.barplot(x=\"Word\", y=\"Frequency\", data=count_consumption, palette=colour, ax=ax)\n",
    "loc, labels = plt.xticks()\n",
    "g.set_xticklabels(labels, rotation=45)\n",
    "plt.show();"
   ]
  },
  {
   "cell_type": "markdown",
   "metadata": {},
   "source": [
    "# General Check on Accuracy using CountVectorizer"
   ]
  },
  {
   "cell_type": "code",
   "execution_count": 25,
   "metadata": {},
   "outputs": [
    {
     "name": "stderr",
     "output_type": "stream",
     "text": [
      "/Users/chi/anaconda/lib/python3.6/site-packages/sklearn/linear_model/logistic.py:432: FutureWarning: Default solver will be changed to 'lbfgs' in 0.22. Specify a solver to silence this warning.\n",
      "  FutureWarning)\n",
      "/Users/chi/anaconda/lib/python3.6/site-packages/sklearn/linear_model/logistic.py:432: FutureWarning: Default solver will be changed to 'lbfgs' in 0.22. Specify a solver to silence this warning.\n",
      "  FutureWarning)\n",
      "/Users/chi/anaconda/lib/python3.6/site-packages/sklearn/linear_model/logistic.py:432: FutureWarning: Default solver will be changed to 'lbfgs' in 0.22. Specify a solver to silence this warning.\n",
      "  FutureWarning)\n",
      "/Users/chi/anaconda/lib/python3.6/site-packages/sklearn/linear_model/logistic.py:432: FutureWarning: Default solver will be changed to 'lbfgs' in 0.22. Specify a solver to silence this warning.\n",
      "  FutureWarning)\n",
      "/Users/chi/anaconda/lib/python3.6/site-packages/sklearn/linear_model/logistic.py:432: FutureWarning: Default solver will be changed to 'lbfgs' in 0.22. Specify a solver to silence this warning.\n",
      "  FutureWarning)\n"
     ]
    },
    {
     "data": {
      "image/png": "[encoded data removed]",
      "text/plain": [
       "<Figure size 648x432 with 1 Axes>"
      ]
     },
     "metadata": {
      "needs_background": "light"
     },
     "output_type": "display_data"
    },
    {
     "data": {
      "text/plain": [
       "model_name\n",
       "LinearSVC                 0.891645\n",
       "LogisticRegression        0.883485\n",
       "MultinomialNB             0.841989\n",
       "RandomForestClassifier    0.767399\n",
       "Name: accuracy, dtype: float64"
      ]
     },
     "execution_count": 25,
     "metadata": {},
     "output_type": "execute_result"
    }
   ],
   "source": [
    "countvect = CountVectorizer()\n",
    "features = countvect.fit_transform(text_train['processed_string']).toarray()\n",
    "labels = class_train\n",
    "\n",
    "models = [RandomForestClassifier(n_estimators=200, max_depth=3, random_state=0),LinearSVC(max_iter = 3000),MultinomialNB(),LogisticRegression(random_state=0)]\n",
    "CV = 5\n",
    "cv_df = pd.DataFrame(index=range(CV * len(models)))\n",
    "entries = []\n",
    "for model in models:\n",
    "  model_name = model.__class__.__name__\n",
    "  accuracies = cross_val_score(model, features, labels, scoring='accuracy', cv=CV)\n",
    "  for fold_idx, accuracy in enumerate(accuracies):\n",
    "    entries.append((model_name, fold_idx, accuracy))\n",
    "cv_df = pd.DataFrame(entries, columns=['model_name', 'fold_idx', 'accuracy'])\n",
    "\n",
    "import seaborn as sns\n",
    "sns.boxplot(x='model_name', y='accuracy', data=cv_df)\n",
    "sns.stripplot(x='model_name', y='accuracy', data=cv_df, \n",
    "              size=8, jitter=True, edgecolor=\"gray\", linewidth=2)\n",
    "import warnings\n",
    "warnings.filterwarnings('ignore')\n",
    "plt.show()\n",
    "cv_df.groupby('model_name').accuracy.mean()"
   ]
  },
  {
   "cell_type": "markdown",
   "metadata": {},
   "source": [
    "# General Check on Accuracy using tfidf"
   ]
  },
  {
   "cell_type": "code",
   "execution_count": 26,
   "metadata": {},
   "outputs": [
    {
     "data": {
      "image/png": "[encoded data removed]",
      "text/plain": [
       "<Figure size 648x432 with 1 Axes>"
      ]
     },
     "metadata": {
      "needs_background": "light"
     },
     "output_type": "display_data"
    },
    {
     "data": {
      "text/plain": [
       "model_name\n",
       "LinearSVC                 0.871155\n",
       "LogisticRegression        0.812985\n",
       "MultinomialNB             0.858570\n",
       "RandomForestClassifier    0.775566\n",
       "SVC                       0.787808\n",
       "Name: accuracy, dtype: float64"
      ]
     },
     "execution_count": 26,
     "metadata": {},
     "output_type": "execute_result"
    }
   ],
   "source": [
    "tfidf = TfidfVectorizer() \n",
    "features = tfidf.fit_transform(text_train['processed_string']).toarray()\n",
    "labels = class_train\n",
    "\n",
    "models = [RandomForestClassifier(n_estimators=200, max_depth=3, random_state=0),LinearSVC(max_iter = 2000),MultinomialNB(),LogisticRegression(random_state=0), SVC(kernel ='linear', degree = 1, C = 0.25)]\n",
    "CV = 5\n",
    "cv_df = pd.DataFrame(index=range(CV * len(models)))\n",
    "entries = []\n",
    "for model in models:\n",
    "  model_name = model.__class__.__name__\n",
    "  accuracies = cross_val_score(model, features, labels, scoring='accuracy', cv=CV)\n",
    "  for fold_idx, accuracy in enumerate(accuracies):\n",
    "    entries.append((model_name, fold_idx, accuracy))\n",
    "cv_df = pd.DataFrame(entries, columns=['model_name', 'fold_idx', 'accuracy'])\n",
    "\n",
    "import seaborn as sns\n",
    "sns.boxplot(x='model_name', y='accuracy', data=cv_df)\n",
    "sns.stripplot(x='model_name', y='accuracy', data=cv_df, \n",
    "              size=8, jitter=True, edgecolor=\"gray\", linewidth=2)\n",
    "import warnings\n",
    "warnings.filterwarnings('ignore')\n",
    "plt.show()\n",
    "cv_df.groupby('model_name').accuracy.mean()"
   ]
  },
  {
   "cell_type": "markdown",
   "metadata": {},
   "source": [
    "# After comparing the cross validated accuracy of the models suppose we would like to use LinearSVC for our classifier, but we have yet to observe the performance indices and tune parameters"
   ]
  },
  {
   "cell_type": "markdown",
   "metadata": {},
   "source": [
    "# Multinomial Naive Bayes (CountVectorizer)"
   ]
  },
  {
   "cell_type": "code",
   "execution_count": 27,
   "metadata": {
    "scrolled": false
   },
   "outputs": [
    {
     "name": "stdout",
     "output_type": "stream",
     "text": [
      "Fitting 5 folds for each of 135 candidates, totalling 675 fits\n"
     ]
    },
    {
     "name": "stderr",
     "output_type": "stream",
     "text": [
      "[Parallel(n_jobs=-1)]: Using backend LokyBackend with 4 concurrent workers.\n",
      "[Parallel(n_jobs=-1)]: Done  42 tasks      | elapsed:    5.3s\n",
      "[Parallel(n_jobs=-1)]: Done 192 tasks      | elapsed:   13.9s\n",
      "[Parallel(n_jobs=-1)]: Done 442 tasks      | elapsed:   29.1s\n",
      "[Parallel(n_jobs=-1)]: Done 675 out of 675 | elapsed:   42.8s finished\n"
     ]
    },
    {
     "name": "stdout",
     "output_type": "stream",
     "text": [
      "done in 43.518s\n",
      "\n",
      "\n",
      "Best CV score: 0.887\n",
      "Best parameters set:\n",
      "\tclf__alpha: 0.25\n",
      "\tfeatures__pipe__vect__max_df: 0.25\n",
      "\tfeatures__pipe__vect__min_df: 1\n",
      "\tfeatures__pipe__vect__ngram_range: (2, 3)\n",
      "Cross Validated Test score with best_estimator_: 0.885\n",
      "\n",
      "\n",
      "Classification Report Test Data\n",
      "\n",
      "\n",
      "              precision    recall  f1-score   support\n",
      "\n",
      " Consumption       0.83      0.86      0.84        22\n",
      "       Other       0.92      0.90      0.91        39\n",
      "\n",
      "    accuracy                           0.89        61\n",
      "   macro avg       0.87      0.88      0.88        61\n",
      "weighted avg       0.89      0.89      0.89        61\n",
      "\n",
      "Accuracy Score:  0.8852459016393442\n"
     ]
    }
   ],
   "source": [
    "mnb = MultinomialNB()\n",
    "logreg = LogisticRegression()\n",
    "countvect = CountVectorizer()\n",
    "mnb_countvect = grid_vect(mnb, param_mnb, text_train, class_train, text_test, class_test, parameters_text=param_vect_countvect, vect=countvect)\n"
   ]
  },
  {
   "cell_type": "markdown",
   "metadata": {},
   "source": [
    "# Multinomial Naive Bayes (TFIDF)"
   ]
  },
  {
   "cell_type": "code",
   "execution_count": 41,
   "metadata": {},
   "outputs": [
    {
     "name": "stdout",
     "output_type": "stream",
     "text": [
      "Fitting 5 folds for each of 405 candidates, totalling 2025 fits\n"
     ]
    },
    {
     "name": "stderr",
     "output_type": "stream",
     "text": [
      "[Parallel(n_jobs=-1)]: Using backend LokyBackend with 4 concurrent workers.\n",
      "[Parallel(n_jobs=-1)]: Done  42 tasks      | elapsed:    2.6s\n",
      "[Parallel(n_jobs=-1)]: Done 192 tasks      | elapsed:   11.0s\n",
      "[Parallel(n_jobs=-1)]: Done 442 tasks      | elapsed:   25.3s\n",
      "[Parallel(n_jobs=-1)]: Done 792 tasks      | elapsed:   45.4s\n",
      "[Parallel(n_jobs=-1)]: Done 1242 tasks      | elapsed:  1.2min\n",
      "[Parallel(n_jobs=-1)]: Done 1792 tasks      | elapsed:  1.7min\n",
      "[Parallel(n_jobs=-1)]: Done 2025 out of 2025 | elapsed:  1.9min finished\n"
     ]
    },
    {
     "name": "stdout",
     "output_type": "stream",
     "text": [
      "done in 116.672s\n",
      "\n",
      "\n",
      "Best CV score: 0.892\n",
      "Best parameters set:\n",
      "\tclf__alpha: 0.5\n",
      "\tfeatures__pipe__vect__max_df: 0.25\n",
      "\tfeatures__pipe__vect__min_df: 1\n",
      "\tfeatures__pipe__vect__ngram_range: (2, 3)\n",
      "\tfeatures__pipe__vect__norm: None\n",
      "Cross Validated Test score with best_estimator_: 0.902\n",
      "\n",
      "\n",
      "Classification Report Test Data\n",
      "\n",
      "\n",
      "              precision    recall  f1-score   support\n",
      "\n",
      " Consumption       0.86      0.86      0.86        22\n",
      "       Other       0.92      0.92      0.92        39\n",
      "\n",
      "    accuracy                           0.90        61\n",
      "   macro avg       0.89      0.89      0.89        61\n",
      "weighted avg       0.90      0.90      0.90        61\n",
      "\n",
      "Accuracy Score:  0.9016393442622951\n"
     ]
    }
   ],
   "source": [
    "mnb_countvect = grid_vect(mnb, param_mnb, text_train, class_train, text_test, class_test, parameters_text=param_vect_tfidf, vect=tfidf)"
   ]
  },
  {
   "cell_type": "markdown",
   "metadata": {},
   "source": [
    "# Logistic Regression (CountVectorizer)"
   ]
  },
  {
   "cell_type": "code",
   "execution_count": 29,
   "metadata": {},
   "outputs": [
    {
     "name": "stdout",
     "output_type": "stream",
     "text": [
      "Fitting 5 folds for each of 270 candidates, totalling 1350 fits\n"
     ]
    },
    {
     "name": "stderr",
     "output_type": "stream",
     "text": [
      "[Parallel(n_jobs=-1)]: Using backend LokyBackend with 4 concurrent workers.\n",
      "[Parallel(n_jobs=-1)]: Done  42 tasks      | elapsed:    2.8s\n",
      "[Parallel(n_jobs=-1)]: Done 192 tasks      | elapsed:   12.2s\n",
      "[Parallel(n_jobs=-1)]: Done 442 tasks      | elapsed:   26.7s\n",
      "[Parallel(n_jobs=-1)]: Done 792 tasks      | elapsed:   46.6s\n",
      "[Parallel(n_jobs=-1)]: Done 1242 tasks      | elapsed:  1.2min\n",
      "[Parallel(n_jobs=-1)]: Done 1350 out of 1350 | elapsed:  1.3min finished\n"
     ]
    },
    {
     "name": "stdout",
     "output_type": "stream",
     "text": [
      "done in 79.026s\n",
      "\n",
      "\n",
      "Best CV score: 0.904\n",
      "Best parameters set:\n",
      "\tclf__C: 1.0\n",
      "\tclf__penalty: 'l2'\n",
      "\tfeatures__pipe__vect__max_df: 0.5\n",
      "\tfeatures__pipe__vect__min_df: 1\n",
      "\tfeatures__pipe__vect__ngram_range: (1, 3)\n",
      "Cross Validated Test score with best_estimator_: 0.967\n",
      "\n",
      "\n",
      "Classification Report Test Data\n",
      "\n",
      "\n",
      "              precision    recall  f1-score   support\n",
      "\n",
      " Consumption       0.95      0.95      0.95        22\n",
      "       Other       0.97      0.97      0.97        39\n",
      "\n",
      "    accuracy                           0.97        61\n",
      "   macro avg       0.96      0.96      0.96        61\n",
      "weighted avg       0.97      0.97      0.97        61\n",
      "\n",
      "Accuracy Score:  0.9672131147540983\n"
     ]
    }
   ],
   "source": [
    "logreg_countvect = grid_vect(logreg, param_logreg, text_train, class_train, text_test, class_test, parameters_text=param_vect_countvect, vect=countvect)\n"
   ]
  },
  {
   "cell_type": "markdown",
   "metadata": {},
   "source": [
    "# Logisitc Regression (TFIDF)\n"
   ]
  },
  {
   "cell_type": "code",
   "execution_count": 42,
   "metadata": {},
   "outputs": [
    {
     "name": "stdout",
     "output_type": "stream",
     "text": [
      "Fitting 5 folds for each of 810 candidates, totalling 4050 fits\n"
     ]
    },
    {
     "name": "stderr",
     "output_type": "stream",
     "text": [
      "[Parallel(n_jobs=-1)]: Using backend LokyBackend with 4 concurrent workers.\n",
      "[Parallel(n_jobs=-1)]: Done  42 tasks      | elapsed:    2.6s\n",
      "[Parallel(n_jobs=-1)]: Done 192 tasks      | elapsed:   11.5s\n",
      "[Parallel(n_jobs=-1)]: Done 442 tasks      | elapsed:   26.4s\n",
      "[Parallel(n_jobs=-1)]: Done 792 tasks      | elapsed:   46.7s\n",
      "[Parallel(n_jobs=-1)]: Done 1242 tasks      | elapsed:  1.2min\n",
      "[Parallel(n_jobs=-1)]: Done 1792 tasks      | elapsed:  1.8min\n",
      "[Parallel(n_jobs=-1)]: Done 2442 tasks      | elapsed:  2.4min\n",
      "[Parallel(n_jobs=-1)]: Done 3192 tasks      | elapsed:  3.1min\n",
      "[Parallel(n_jobs=-1)]: Done 4042 tasks      | elapsed:  3.9min\n",
      "[Parallel(n_jobs=-1)]: Done 4050 out of 4050 | elapsed:  3.9min finished\n"
     ]
    },
    {
     "name": "stdout",
     "output_type": "stream",
     "text": [
      "done in 236.959s\n",
      "\n",
      "\n",
      "Best CV score: 0.904\n",
      "Best parameters set:\n",
      "\tclf__C: 1.0\n",
      "\tclf__penalty: 'l2'\n",
      "\tfeatures__pipe__vect__max_df: 0.5\n",
      "\tfeatures__pipe__vect__min_df: 3\n",
      "\tfeatures__pipe__vect__ngram_range: (1, 3)\n",
      "\tfeatures__pipe__vect__norm: None\n",
      "Cross Validated Test score with best_estimator_: 0.918\n",
      "\n",
      "\n",
      "Classification Report Test Data\n",
      "\n",
      "\n",
      "              precision    recall  f1-score   support\n",
      "\n",
      " Consumption       0.90      0.86      0.88        22\n",
      "       Other       0.93      0.95      0.94        39\n",
      "\n",
      "    accuracy                           0.92        61\n",
      "   macro avg       0.91      0.91      0.91        61\n",
      "weighted avg       0.92      0.92      0.92        61\n",
      "\n",
      "Accuracy Score:  0.9180327868852459\n"
     ]
    }
   ],
   "source": [
    "logreg_tfidf = grid_vect(logreg, param_logreg, text_train, class_train, text_test, class_test, parameters_text=param_vect_tfidf, vect=tfidf)\n"
   ]
  },
  {
   "cell_type": "markdown",
   "metadata": {},
   "source": [
    "# Linear SVC (CountVectorizer)"
   ]
  },
  {
   "cell_type": "code",
   "execution_count": 31,
   "metadata": {},
   "outputs": [
    {
     "name": "stderr",
     "output_type": "stream",
     "text": [
      "[Parallel(n_jobs=-1)]: Using backend LokyBackend with 4 concurrent workers.\n"
     ]
    },
    {
     "name": "stdout",
     "output_type": "stream",
     "text": [
      "Fitting 5 folds for each of 225 candidates, totalling 1125 fits\n"
     ]
    },
    {
     "name": "stderr",
     "output_type": "stream",
     "text": [
      "[Parallel(n_jobs=-1)]: Done  42 tasks      | elapsed:    2.5s\n",
      "[Parallel(n_jobs=-1)]: Done 192 tasks      | elapsed:   11.0s\n",
      "[Parallel(n_jobs=-1)]: Done 442 tasks      | elapsed:   26.0s\n",
      "[Parallel(n_jobs=-1)]: Done 792 tasks      | elapsed:   47.1s\n",
      "[Parallel(n_jobs=-1)]: Done 1125 out of 1125 | elapsed:  1.1min finished\n"
     ]
    },
    {
     "name": "stdout",
     "output_type": "stream",
     "text": [
      "done in 67.747s\n",
      "\n",
      "\n",
      "Best CV score: 0.917\n",
      "Best parameters set:\n",
      "\tclf__C: 0.15\n",
      "\tfeatures__pipe__vect__max_df: 0.5\n",
      "\tfeatures__pipe__vect__min_df: 2\n",
      "\tfeatures__pipe__vect__ngram_range: (1, 1)\n",
      "Cross Validated Test score with best_estimator_: 0.951\n",
      "\n",
      "\n",
      "Classification Report Test Data\n",
      "\n",
      "\n",
      "              precision    recall  f1-score   support\n",
      "\n",
      " Consumption       0.91      0.95      0.93        22\n",
      "       Other       0.97      0.95      0.96        39\n",
      "\n",
      "    accuracy                           0.95        61\n",
      "   macro avg       0.94      0.95      0.95        61\n",
      "weighted avg       0.95      0.95      0.95        61\n",
      "\n",
      "Accuracy Score:  0.9508196721311475\n"
     ]
    }
   ],
   "source": [
    "linsvc = LinearSVC() \n",
    "lscv_countvect = grid_vect(linsvc, param_linearsvc, text_train, class_train, text_test, class_test, parameters_text=param_vect_countvect, vect= countvect)\n"
   ]
  },
  {
   "cell_type": "markdown",
   "metadata": {},
   "source": [
    "# Linear SVC (TFIDF)"
   ]
  },
  {
   "cell_type": "code",
   "execution_count": 40,
   "metadata": {},
   "outputs": [
    {
     "name": "stdout",
     "output_type": "stream",
     "text": [
      "Fitting 5 folds for each of 675 candidates, totalling 3375 fits\n"
     ]
    },
    {
     "name": "stderr",
     "output_type": "stream",
     "text": [
      "[Parallel(n_jobs=-1)]: Using backend LokyBackend with 4 concurrent workers.\n",
      "[Parallel(n_jobs=-1)]: Done  42 tasks      | elapsed:    5.8s\n",
      "[Parallel(n_jobs=-1)]: Done 192 tasks      | elapsed:   14.4s\n",
      "[Parallel(n_jobs=-1)]: Done 442 tasks      | elapsed:   28.8s\n",
      "[Parallel(n_jobs=-1)]: Done 792 tasks      | elapsed:   49.9s\n",
      "[Parallel(n_jobs=-1)]: Done 1242 tasks      | elapsed:  1.3min\n",
      "[Parallel(n_jobs=-1)]: Done 1792 tasks      | elapsed:  1.8min\n",
      "[Parallel(n_jobs=-1)]: Done 2442 tasks      | elapsed:  2.5min\n",
      "[Parallel(n_jobs=-1)]: Done 3192 tasks      | elapsed:  3.2min\n",
      "[Parallel(n_jobs=-1)]: Done 3375 out of 3375 | elapsed:  3.4min finished\n"
     ]
    },
    {
     "name": "stdout",
     "output_type": "stream",
     "text": [
      "done in 204.204s\n",
      "\n",
      "\n",
      "Best CV score: 0.908\n",
      "Best parameters set:\n",
      "\tclf__C: 0.05\n",
      "\tfeatures__pipe__vect__max_df: 0.5\n",
      "\tfeatures__pipe__vect__min_df: 2\n",
      "\tfeatures__pipe__vect__ngram_range: (1, 3)\n",
      "\tfeatures__pipe__vect__norm: None\n",
      "Cross Validated Test score with best_estimator_: 0.902\n",
      "\n",
      "\n",
      "Classification Report Test Data\n",
      "\n",
      "\n",
      "              precision    recall  f1-score   support\n",
      "\n",
      " Consumption       0.90      0.82      0.86        22\n",
      "       Other       0.90      0.95      0.92        39\n",
      "\n",
      "    accuracy                           0.90        61\n",
      "   macro avg       0.90      0.88      0.89        61\n",
      "weighted avg       0.90      0.90      0.90        61\n",
      "\n",
      "Accuracy Score:  0.9016393442622951\n"
     ]
    }
   ],
   "source": [
    "linsvc = LinearSVC() \n",
    "lscv_tfidf = grid_vect(linsvc, param_linearsvc, text_train, class_train, text_test, class_test, parameters_text=param_vect_tfidf, vect=tfidf)\n"
   ]
  },
  {
   "cell_type": "markdown",
   "metadata": {},
   "source": [
    "# Random Forest Classifier (CountVectorizer)"
   ]
  },
  {
   "cell_type": "code",
   "execution_count": 33,
   "metadata": {},
   "outputs": [
    {
     "name": "stdout",
     "output_type": "stream",
     "text": [
      "Fitting 5 folds for each of 1080 candidates, totalling 5400 fits\n"
     ]
    },
    {
     "name": "stderr",
     "output_type": "stream",
     "text": [
      "[Parallel(n_jobs=-1)]: Using backend LokyBackend with 4 concurrent workers.\n",
      "[Parallel(n_jobs=-1)]: Done  42 tasks      | elapsed:    4.9s\n",
      "[Parallel(n_jobs=-1)]: Done 192 tasks      | elapsed:   20.0s\n",
      "[Parallel(n_jobs=-1)]: Done 442 tasks      | elapsed:   45.9s\n",
      "[Parallel(n_jobs=-1)]: Done 792 tasks      | elapsed:  1.3min\n",
      "[Parallel(n_jobs=-1)]: Done 1242 tasks      | elapsed:  2.5min\n",
      "[Parallel(n_jobs=-1)]: Done 1792 tasks      | elapsed:  3.8min\n",
      "[Parallel(n_jobs=-1)]: Done 2442 tasks      | elapsed:  5.0min\n",
      "[Parallel(n_jobs=-1)]: Done 3192 tasks      | elapsed:  6.7min\n",
      "[Parallel(n_jobs=-1)]: Done 4042 tasks      | elapsed:  8.5min\n",
      "[Parallel(n_jobs=-1)]: Done 4992 tasks      | elapsed: 10.7min\n",
      "[Parallel(n_jobs=-1)]: Done 5400 out of 5400 | elapsed: 12.2min finished\n"
     ]
    },
    {
     "name": "stdout",
     "output_type": "stream",
     "text": [
      "done in 733.814s\n",
      "\n",
      "\n",
      "Best CV score: 0.833\n",
      "Best parameters set:\n",
      "\tclf__max_depth: 4\n",
      "\tclf__n_estimators: 200\n",
      "\tclf__random_state: 3\n",
      "\tfeatures__pipe__vect__max_df: 0.5\n",
      "\tfeatures__pipe__vect__min_df: 3\n",
      "\tfeatures__pipe__vect__ngram_range: (1, 1)\n",
      "Cross Validated Test score with best_estimator_: 0.820\n",
      "\n",
      "\n",
      "Classification Report Test Data\n",
      "\n",
      "\n",
      "              precision    recall  f1-score   support\n",
      "\n",
      " Consumption       0.92      0.55      0.69        22\n",
      "       Other       0.79      0.97      0.87        39\n",
      "\n",
      "    accuracy                           0.82        61\n",
      "   macro avg       0.86      0.76      0.78        61\n",
      "weighted avg       0.84      0.82      0.81        61\n",
      "\n",
      "Accuracy Score:  0.819672131147541\n"
     ]
    }
   ],
   "source": [
    "RandF = RandomForestClassifier()\n",
    "Randomforest_countvect = grid_vect(RandF, param_RandF, text_train, class_train, text_test, class_test, parameters_text=param_vect_countvect, vect=countvect)\n"
   ]
  },
  {
   "cell_type": "markdown",
   "metadata": {},
   "source": [
    "# Random Forest Classifier (TFIDF)"
   ]
  },
  {
   "cell_type": "code",
   "execution_count": 30,
   "metadata": {},
   "outputs": [
    {
     "name": "stdout",
     "output_type": "stream",
     "text": [
      "Fitting 5 folds for each of 3240 candidates, totalling 16200 fits\n"
     ]
    },
    {
     "name": "stderr",
     "output_type": "stream",
     "text": [
      "[Parallel(n_jobs=-1)]: Using backend LokyBackend with 4 concurrent workers.\n",
      "[Parallel(n_jobs=-1)]: Done  42 tasks      | elapsed:    7.2s\n",
      "[Parallel(n_jobs=-1)]: Done 192 tasks      | elapsed:   22.2s\n",
      "[Parallel(n_jobs=-1)]: Done 442 tasks      | elapsed:   46.2s\n",
      "[Parallel(n_jobs=-1)]: Done 792 tasks      | elapsed:  1.3min\n",
      "[Parallel(n_jobs=-1)]: Done 1242 tasks      | elapsed:  2.1min\n",
      "[Parallel(n_jobs=-1)]: Done 1792 tasks      | elapsed:  2.9min\n",
      "[Parallel(n_jobs=-1)]: Done 2442 tasks      | elapsed:  4.0min\n",
      "[Parallel(n_jobs=-1)]: Done 3192 tasks      | elapsed:  5.4min\n",
      "[Parallel(n_jobs=-1)]: Done 4042 tasks      | elapsed:  7.1min\n",
      "[Parallel(n_jobs=-1)]: Done 4992 tasks      | elapsed:  9.1min\n",
      "[Parallel(n_jobs=-1)]: Done 6042 tasks      | elapsed: 11.0min\n",
      "[Parallel(n_jobs=-1)]: Done 7192 tasks      | elapsed: 12.9min\n",
      "[Parallel(n_jobs=-1)]: Done 8442 tasks      | elapsed: 15.1min\n",
      "[Parallel(n_jobs=-1)]: Done 9792 tasks      | elapsed: 17.9min\n",
      "[Parallel(n_jobs=-1)]: Done 11242 tasks      | elapsed: 20.7min\n",
      "[Parallel(n_jobs=-1)]: Done 12792 tasks      | elapsed: 23.8min\n",
      "[Parallel(n_jobs=-1)]: Done 14442 tasks      | elapsed: 28.0min\n",
      "[Parallel(n_jobs=-1)]: Done 16192 tasks      | elapsed: 32.6min\n",
      "[Parallel(n_jobs=-1)]: Done 16200 out of 16200 | elapsed: 32.6min finished\n",
      "/Users/chi/anaconda/lib/python3.6/site-packages/sklearn/model_selection/_search.py:813: DeprecationWarning: The default of the `iid` parameter will change from True to False in version 0.22 and will be removed in 0.24. This will change numeric results when test-set sizes are unequal.\n",
      "  DeprecationWarning)\n"
     ]
    },
    {
     "name": "stdout",
     "output_type": "stream",
     "text": [
      "done in 1955.855s\n",
      "\n",
      "\n",
      "Best CV score: 0.833\n",
      "Best parameters set:\n",
      "\tclf__max_depth: 4\n",
      "\tclf__n_estimators: 200\n",
      "\tclf__random_state: 3\n",
      "\tfeatures__pipe__vect__max_df: 0.5\n",
      "\tfeatures__pipe__vect__min_df: 3\n",
      "\tfeatures__pipe__vect__ngram_range: (1, 1)\n",
      "\tfeatures__pipe__vect__norm: None\n",
      "Cross Validated Test score with best_estimator_: 0.820\n",
      "\n",
      "\n",
      "Classification Report Test Data\n",
      "\n",
      "\n",
      "              precision    recall  f1-score   support\n",
      "\n",
      " Consumption       0.92      0.55      0.69        22\n",
      "       Other       0.79      0.97      0.87        39\n",
      "\n",
      "    accuracy                           0.82        61\n",
      "   macro avg       0.86      0.76      0.78        61\n",
      "weighted avg       0.84      0.82      0.81        61\n",
      "\n",
      "Accuracy Score:  0.819672131147541\n"
     ]
    }
   ],
   "source": [
    "Randomforest_tfidf = grid_vect(RandF, param_RandF, text_train, class_train, text_test, class_test, parameters_text=param_vect_tfidf, vect=tfidf)\n"
   ]
  },
  {
   "cell_type": "markdown",
   "metadata": {},
   "source": [
    "# XGboost (CountVecotrizer)"
   ]
  },
  {
   "cell_type": "code",
   "execution_count": 28,
   "metadata": {},
   "outputs": [
    {
     "name": "stdout",
     "output_type": "stream",
     "text": [
      "Fitting 5 folds for each of 1620 candidates, totalling 8100 fits\n"
     ]
    },
    {
     "name": "stderr",
     "output_type": "stream",
     "text": [
      "[Parallel(n_jobs=-1)]: Using backend LokyBackend with 4 concurrent workers.\n",
      "[Parallel(n_jobs=-1)]: Done  42 tasks      | elapsed:   30.0s\n",
      "[Parallel(n_jobs=-1)]: Done 192 tasks      | elapsed:  1.7min\n",
      "[Parallel(n_jobs=-1)]: Done 442 tasks      | elapsed:  3.7min\n",
      "[Parallel(n_jobs=-1)]: Done 792 tasks      | elapsed:  6.6min\n",
      "[Parallel(n_jobs=-1)]: Done 1242 tasks      | elapsed:  9.4min\n",
      "[Parallel(n_jobs=-1)]: Done 1792 tasks      | elapsed: 11.7min\n",
      "[Parallel(n_jobs=-1)]: Done 2442 tasks      | elapsed: 14.6min\n",
      "[Parallel(n_jobs=-1)]: Done 3192 tasks      | elapsed: 18.2min\n",
      "[Parallel(n_jobs=-1)]: Done 4042 tasks      | elapsed: 22.3min\n",
      "[Parallel(n_jobs=-1)]: Done 4992 tasks      | elapsed: 26.9min\n",
      "[Parallel(n_jobs=-1)]: Done 6042 tasks      | elapsed: 32.5min\n",
      "[Parallel(n_jobs=-1)]: Done 7192 tasks      | elapsed: 38.4min\n",
      "[Parallel(n_jobs=-1)]: Done 8100 out of 8100 | elapsed: 43.1min finished\n"
     ]
    },
    {
     "name": "stdout",
     "output_type": "stream",
     "text": [
      "done in 2586.751s\n",
      "\n",
      "\n",
      "Best CV score: 0.900\n",
      "Best parameters set:\n",
      "\tclf__max_depth: 4\n",
      "\tclf__seed: 1\n",
      "\tclf__subsample: 0.7\n",
      "\tfeatures__pipe__vect__max_df: 0.75\n",
      "\tfeatures__pipe__vect__min_df: 3\n",
      "\tfeatures__pipe__vect__ngram_range: (1, 2)\n",
      "Cross Validated Test score with best_estimator_: 0.934\n",
      "\n",
      "\n",
      "Classification Report Test Data\n",
      "\n",
      "\n",
      "              precision    recall  f1-score   support\n",
      "\n",
      " Consumption       0.95      0.86      0.90        22\n",
      "       Other       0.93      0.97      0.95        39\n",
      "\n",
      "    accuracy                           0.93        61\n",
      "   macro avg       0.94      0.92      0.93        61\n",
      "weighted avg       0.94      0.93      0.93        61\n",
      "\n",
      "Accuracy Score:  0.9344262295081968\n"
     ]
    }
   ],
   "source": [
    "countvect = CountVectorizer()\n",
    "xgb = XGBClassifier(random_state=1995,colsample_bytree=0.3, subsample=0.3)\n",
    "XGboost_tfidf = grid_vect(xgb, param_xgb, text_train, class_train, text_test, class_test, parameters_text=param_vect_countvect, vect=countvect)\n"
   ]
  },
  {
   "cell_type": "markdown",
   "metadata": {},
   "source": [
    "# XGboost (TFIDF)"
   ]
  },
  {
   "cell_type": "code",
   "execution_count": 25,
   "metadata": {},
   "outputs": [
    {
     "name": "stdout",
     "output_type": "stream",
     "text": [
      "Fitting 5 folds for each of 1620 candidates, totalling 8100 fits\n"
     ]
    },
    {
     "name": "stderr",
     "output_type": "stream",
     "text": [
      "[Parallel(n_jobs=-1)]: Using backend LokyBackend with 4 concurrent workers.\n",
      "[Parallel(n_jobs=-1)]: Done  42 tasks      | elapsed:   18.5s\n",
      "[Parallel(n_jobs=-1)]: Done 192 tasks      | elapsed:   57.3s\n",
      "[Parallel(n_jobs=-1)]: Done 442 tasks      | elapsed:  2.7min\n",
      "[Parallel(n_jobs=-1)]: Done 792 tasks      | elapsed:  7.0min\n",
      "[Parallel(n_jobs=-1)]: Done 1242 tasks      | elapsed: 12.0min\n",
      "[Parallel(n_jobs=-1)]: Done 1792 tasks      | elapsed: 17.8min\n",
      "[Parallel(n_jobs=-1)]: Done 2442 tasks      | elapsed: 25.5min\n",
      "[Parallel(n_jobs=-1)]: Done 3192 tasks      | elapsed: 34.8min\n",
      "[Parallel(n_jobs=-1)]: Done 4042 tasks      | elapsed: 45.3min\n",
      "[Parallel(n_jobs=-1)]: Done 4992 tasks      | elapsed: 57.5min\n",
      "[Parallel(n_jobs=-1)]: Done 6042 tasks      | elapsed: 80.5min\n",
      "[Parallel(n_jobs=-1)]: Done 7192 tasks      | elapsed: 105.7min\n",
      "[Parallel(n_jobs=-1)]: Done 8100 out of 8100 | elapsed: 127.5min finished\n",
      "/Users/chi/anaconda/lib/python3.6/site-packages/sklearn/model_selection/_search.py:813: DeprecationWarning: The default of the `iid` parameter will change from True to False in version 0.22 and will be removed in 0.24. This will change numeric results when test-set sizes are unequal.\n",
      "  DeprecationWarning)\n"
     ]
    },
    {
     "name": "stdout",
     "output_type": "stream",
     "text": [
      "done in 7660.886s\n",
      "\n",
      "\n",
      "Best CV score: 0.883\n",
      "Best parameters set:\n",
      "\tclf__max_depth: 6\n",
      "\tclf__seed: 2\n",
      "\tclf__subsample: 0.7\n",
      "\tfeatures__pipe__vect__max_df: 0.5\n",
      "\tfeatures__pipe__vect__min_df: 1\n",
      "\tfeatures__pipe__vect__ngram_range: (1, 2)\n",
      "Cross Validated Test score with best_estimator_: 0.934\n",
      "\n",
      "\n",
      "Classification Report Test Data\n",
      "\n",
      "\n",
      "              precision    recall  f1-score   support\n",
      "\n",
      " Consumption       0.95      0.86      0.90        22\n",
      "       Other       0.93      0.97      0.95        39\n",
      "\n",
      "    accuracy                           0.93        61\n",
      "   macro avg       0.94      0.92      0.93        61\n",
      "weighted avg       0.94      0.93      0.93        61\n",
      "\n",
      "Accuracy Score:  0.9344262295081968\n"
     ]
    }
   ],
   "source": [
    "tfidf = TfidfVectorizer() \n",
    "xgb = XGBClassifier(random_state=1995,colsample_bytree=0.3, subsample=0.3)\n",
    "XGboost_countvect = grid_vect(xgb, param_xgb, text_train, class_train, text_test, class_test, parameters_text=param_vect_tfidf, vect=tfidf)\n"
   ]
  },
  {
   "cell_type": "code",
   "execution_count": null,
   "metadata": {},
   "outputs": [],
   "source": []
  }
 ],
 "metadata": {
  "kernelspec": {
   "display_name": "Python 3",
   "language": "python",
   "name": "python3"
  },
  "language_info": {
   "codemirror_mode": {
    "name": "ipython",
    "version": 3
   },
   "file_extension": ".py",
   "mimetype": "text/x-python",
   "name": "python",
   "nbconvert_exporter": "python",
   "pygments_lexer": "ipython3",
   "version": "3.6.8"
  }
 },
 "nbformat": 4,
 "nbformat_minor": 2
}
